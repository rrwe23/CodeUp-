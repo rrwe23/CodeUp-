{
 "cells": [
  {
   "cell_type": "code",
   "execution_count": null,
   "id": "7670fddb",
   "metadata": {},
   "outputs": [],
   "source": [
    "print(python.find(\"Java\"))\n",
    "\n",
    "\n"
   ]
  },
  {
   "cell_type": "markdown",
   "id": "b220647d",
   "metadata": {
    "ExecuteTime": {
     "end_time": "2022-03-02T01:44:04.403049Z",
     "start_time": "2022-03-02T01:44:04.397647Z"
    }
   },
   "source": [
    "코드로 실행시 컨트롤 엔터\n",
    "쉬프트 엔터 = 코드를 실행하고 다음 줄로 넘어감\n",
    "입력상태해제 = esc\n",
    "a = 윗줄에 새로운 행 추가\n",
    "b = 아랫줄에 새로운 행 추가\n",
    "dd = 행 삭제\n",
    "yy = 코드화\n",
    "mm = 텍스트화\n",
    "입력모드 = 엔터\n",
    "파이썬 코딩도장 참조하여 예제 학습, 최소 20장대는 필수 나머지는 선택\n",
    "\n",
    "파이썬은 항상 들여쓰기, 공백 4칸 권장\n",
    "커멘드 + ~ == 창 전환\n",
    "\n",
    "// = 버림 나눗셈\n",
    "나머지 구하는 연산자 = %\n",
    "거듭제곱 연산자 = **\n",
    "type() = 객체의 자료형 구하는 함수\n",
    "divmod = 목과 나머지 함께 구하기\n",
    "2진수 = 앞에 0b\n",
    "8진수 = 앞에 0o\n",
    "16진수 = 앞에 0x\n",
    "공학에서 복소수 표시 = j\n",
    "del = 할당된 변수 삭제\n",
    "input = 사용자가 입력한 값을 가져오는 함수\n",
    "split() = 다변수를 받을 때 , 괄호값을 기준으로 문자열 구분\n",
    "map() = 타입 변환함수\n",
    "sep = (separator) = 지정한 방법으로 문자열 구분\n",
    "\\n = 한 줄로 \n",
    "print(1,end=' ') # end에 빈 문자열을 지정하면 다음 번 출력이 바로 뒤에 오게 됨\n",
    "\n",
    "!= 다른지 비교\n",
    "== 같은지 비교\n",
    "\n",
    "is \n",
    "is not   ## 객체가 같은지 비교\n",
    "bool  // 문자열의 내용을 판단하지 않고 값이 있으면 true 반환\n",
    "\n",
    "'''  ''' 로 이루어진 문자열 = 줄변환까지 같이 출력\n",
    "\\' ===  작은 따옴표를 문구에 포함\n",
    " [] , range() = 리스트 만들기 \n",
    " list(range(시작,끝,증가폭))\n",
    "튜플 = (10,20,30,40,50) 과 같이 괄호를 이용한 변수 리스트 =절대 변경되지 않고 유지될시 사용\n",
    "sequence types = 연속적으로 이어진 자료형\n",
    "len = 리스트의 요소 개수 구하기\n",
    "\n",
    "# print(\"나는 %d살입니다.\" % 20)  # d = 정수\n",
    "# print(\"나는 %s를 좋아해요\" % \"파이선\")  # s= 문자열  , C = 문자\n",
    "\n",
    "# print(\"나는 {}살입니다.\".format(20))\n",
    "# print(\"나는 {1}색과 {0}색을 좋아해요\".format(\"파란\",\"빨강\"))\n",
    "\n",
    "# age = 20\n",
    "# color = \"빨간\"\n",
    "# print(f\"나는 {age}살이며, {color}색을 좋아해요.\")  # 프린트문 내에서 f로 문장을 시작하면 중괄호 속 변수를 받아 출력\n",
    "\n",
    "# \\n : 줄바꿈\n",
    "\n",
    "\n",
    "print(\"나는\\\"이주현\\\"이다\")         # \\\"\" == 큰따옴표 그대로 출력\n",
    "\n",
    "print(\"Red Apple\\rPine\")          # \\r다음 문제를 첫 문자에 뒤집어 씌움\n",
    "\n",
    "print(\"Redd\\bApple\")       #\\b == 한칸 지우기\n",
    "\n",
    "\n",
    "                \n",
    "\n",
    "\n",
    "\n",
    "\n",
    "\n",
    "\n",
    "\n",
    "\n",
    "\n",
    " \n",
    "\n",
    "\n",
    "\n",
    "\n",
    "\n",
    "\n",
    "\n",
    "\n",
    "\n"
   ]
  }
 ],
 "metadata": {
  "kernelspec": {
   "display_name": "Python 3",
   "language": "python",
   "name": "python3"
  },
  "language_info": {
   "codemirror_mode": {
    "name": "ipython",
    "version": 3
   },
   "file_extension": ".py",
   "mimetype": "text/x-python",
   "name": "python",
   "nbconvert_exporter": "python",
   "pygments_lexer": "ipython3",
   "version": "3.8.8"
  },
  "toc": {
   "base_numbering": 1,
   "nav_menu": {},
   "number_sections": true,
   "sideBar": true,
   "skip_h1_title": false,
   "title_cell": "Table of Contents",
   "title_sidebar": "Contents",
   "toc_cell": false,
   "toc_position": {},
   "toc_section_display": true,
   "toc_window_display": false
  },
  "varInspector": {
   "cols": {
    "lenName": 16,
    "lenType": 16,
    "lenVar": 40
   },
   "kernels_config": {
    "python": {
     "delete_cmd_postfix": "",
     "delete_cmd_prefix": "del ",
     "library": "var_list.py",
     "varRefreshCmd": "print(var_dic_list())"
    },
    "r": {
     "delete_cmd_postfix": ") ",
     "delete_cmd_prefix": "rm(",
     "library": "var_list.r",
     "varRefreshCmd": "cat(var_dic_list()) "
    }
   },
   "types_to_exclude": [
    "module",
    "function",
    "builtin_function_or_method",
    "instance",
    "_Feature"
   ],
   "window_display": false
  }
 },
 "nbformat": 4,
 "nbformat_minor": 5
}
